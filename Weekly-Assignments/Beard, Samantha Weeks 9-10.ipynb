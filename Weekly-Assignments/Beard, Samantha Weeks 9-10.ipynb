{
 "cells": [
  {
   "cell_type": "markdown",
   "id": "06b77804",
   "metadata": {},
   "source": [
    "### Samantha Beard\n",
    "#### Weeks 9-10\n"
   ]
  },
  {
   "cell_type": "code",
   "execution_count": 1,
   "id": "98d2859d",
   "metadata": {},
   "outputs": [],
   "source": [
    "# import libraries\n",
    "import urllib.request, urllib.parse, urllib.error\n",
    "import requests\n",
    "from bs4 import BeautifulSoup\n",
    "import ssl\n",
    "import re\n",
    "import json\n",
    "import matplotlib.pyplot as plt\n",
    "import numpy as np\n",
    "import pandas as pd\n",
    "import random"
   ]
  },
  {
   "cell_type": "markdown",
   "id": "96b32129",
   "metadata": {},
   "source": [
    "### Exercise 1, Activity 9: Top 100 ebooks' name extraction from Gutenberg.org\n",
    "What is Project Gutenberg? -\n",
    "Project Gutenberg is a volunteer effort to digitize and archive cultural works, to \"encourage the creation and distribution of eBooks\". It was founded in 1971 by American writer Michael S. Hart and is the oldest digital library. This longest-established ebook project releases books that entered the public domain, and can be freely read or downloaded in various electronic formats."
   ]
  },
  {
   "cell_type": "markdown",
   "id": "ed7201c1",
   "metadata": {},
   "source": [
    "#### Ignore SSL errors (this code will be given)"
   ]
  },
  {
   "cell_type": "code",
   "execution_count": 2,
   "id": "97e400e0",
   "metadata": {},
   "outputs": [],
   "source": [
    "# Ignore SSL certificate errors\n",
    "ctx = ssl.create_default_context()\n",
    "ctx.check_hostname = False\n",
    "ctx.verify_mode = ssl.CERT_NONE"
   ]
  },
  {
   "cell_type": "markdown",
   "id": "fff9a051",
   "metadata": {},
   "source": [
    "#### Read the HTML from the URL"
   ]
  },
  {
   "cell_type": "code",
   "execution_count": 3,
   "id": "8a72aedd",
   "metadata": {},
   "outputs": [],
   "source": [
    "# Read the HTML from the URL and pass on to BeautifulSoup\n",
    "top100url = 'https://www.gutenberg.org/browse/scores/top'\n",
    "response = requests.get(top100url)"
   ]
  },
  {
   "cell_type": "markdown",
   "id": "76c34f25",
   "metadata": {},
   "source": [
    "#### Write a small function to check the status of web request"
   ]
  },
  {
   "cell_type": "code",
   "execution_count": 4,
   "id": "66da5a96",
   "metadata": {},
   "outputs": [],
   "source": [
    "def status_check(r):\n",
    "    if r.status_code==200:\n",
    "        print(\"Success!\")\n",
    "        return 1\n",
    "    else:\n",
    "        print(\"Failed!\")\n",
    "        return -1"
   ]
  },
  {
   "cell_type": "code",
   "execution_count": 5,
   "id": "20064ab7",
   "metadata": {},
   "outputs": [
    {
     "name": "stdout",
     "output_type": "stream",
     "text": [
      "Success!\n"
     ]
    },
    {
     "data": {
      "text/plain": [
       "1"
      ]
     },
     "execution_count": 5,
     "metadata": {},
     "output_type": "execute_result"
    }
   ],
   "source": [
    "# call function to check status\n",
    "status_check(response)"
   ]
  },
  {
   "cell_type": "markdown",
   "id": "30e2944a",
   "metadata": {},
   "source": [
    "#### Decode the response and pass on to BeautifulSoup for HTML parsing"
   ]
  },
  {
   "cell_type": "code",
   "execution_count": 6,
   "id": "9728d03f",
   "metadata": {},
   "outputs": [],
   "source": [
    "contents = response.content.decode(response.encoding)"
   ]
  },
  {
   "cell_type": "code",
   "execution_count": 7,
   "id": "d44e4d00",
   "metadata": {},
   "outputs": [],
   "source": [
    "soup = BeautifulSoup(contents, 'html.parser')"
   ]
  },
  {
   "cell_type": "markdown",
   "id": "7ced5706",
   "metadata": {},
   "source": [
    "#### Find all the href tags and store them in the list of links. Check how the list looks like - print first 30 elements"
   ]
  },
  {
   "cell_type": "code",
   "execution_count": 8,
   "id": "1236a709",
   "metadata": {},
   "outputs": [],
   "source": [
    "# Empty list to hold all the http links in the HTML page\n",
    "lst_links=[]"
   ]
  },
  {
   "cell_type": "code",
   "execution_count": 9,
   "id": "49b3a1db",
   "metadata": {},
   "outputs": [],
   "source": [
    "# Find all the href tags and store them in the list of links\n",
    "for link in soup.find_all('a'):\n",
    "    #print(link.get('href'))\n",
    "    lst_links.append(link.get('href'))"
   ]
  },
  {
   "cell_type": "code",
   "execution_count": 10,
   "id": "bd490691",
   "metadata": {},
   "outputs": [
    {
     "data": {
      "text/plain": [
       "['/',\n",
       " '/about/',\n",
       " '/about/',\n",
       " '/policy/collection_development.html',\n",
       " '/about/contact_information.html',\n",
       " '/about/background/',\n",
       " '/policy/permission.html',\n",
       " '/policy/privacy_policy.html',\n",
       " '/policy/terms_of_use.html',\n",
       " '/ebooks/',\n",
       " '/ebooks/',\n",
       " '/ebooks/bookshelf/',\n",
       " '/browse/scores/top',\n",
       " '/ebooks/offline_catalogs.html',\n",
       " '/help/',\n",
       " '/help/',\n",
       " '/help/copyright.html',\n",
       " '/help/errata.html',\n",
       " '/help/file_formats.html',\n",
       " '/help/faq.html',\n",
       " '/policy/',\n",
       " '/help/public_domain_ebook_submission.html',\n",
       " '/help/submitting_your_own_work.html',\n",
       " '/help/mobile.html',\n",
       " '/attic/',\n",
       " '/donate/',\n",
       " '/donate/',\n",
       " '#books-last1',\n",
       " '#authors-last1',\n",
       " '#books-last7']"
      ]
     },
     "execution_count": 10,
     "metadata": {},
     "output_type": "execute_result"
    }
   ],
   "source": [
    "lst_links[:30]"
   ]
  },
  {
   "cell_type": "markdown",
   "id": "f0421d1e",
   "metadata": {},
   "source": [
    "#### Use regular expression to find the numeric digits in these links.  These are the file number for the Top 100 books."
   ]
  },
  {
   "cell_type": "code",
   "execution_count": 11,
   "id": "bd0ade25",
   "metadata": {},
   "outputs": [],
   "source": [
    "# empty list for file numbers\n",
    "booknum=[]"
   ]
  },
  {
   "cell_type": "markdown",
   "id": "cc0afde4",
   "metadata": {},
   "source": [
    "* Number 19 to 118 in the original list of links have the Top 100 ebooks' number.\n",
    "* Loop over appropriate range and use regex to find the numeric digits in the link (href) string.\n",
    "* Hint: Use findall() method"
   ]
  },
  {
   "cell_type": "code",
   "execution_count": 12,
   "id": "14a60529",
   "metadata": {},
   "outputs": [],
   "source": [
    "for i in range(19,119):\n",
    "    link=lst_links[i]\n",
    "    link=link.strip()\n",
    "    # Regular expression to find the numeric digits in the link (href) string\n",
    "    n=re.findall('[0-9]+',link)\n",
    "    if len(n)==1:\n",
    "        # Append the filenumber casted as integer\n",
    "        booknum.append(int(n[0]))"
   ]
  },
  {
   "cell_type": "code",
   "execution_count": 13,
   "id": "29724d09",
   "metadata": {},
   "outputs": [
    {
     "name": "stdout",
     "output_type": "stream",
     "text": [
      "\n",
      "The file numbers for the top 100 ebooks on Gutenberg are shown below\n",
      "----------------------------------------------------------------------\n",
      "[1, 1, 7, 7, 30, 30, 84, 1342, 2701, 1513, 145, 2641, 100, 37106, 16389, 67979, 6761, 394, 2160, 4085, 1259, 5197, 6593, 11, 64317, 72971, 72969, 174, 72966, 2542, 1952, 1080, 844, 5200, 98, 345, 2554, 76, 28054, 25344, 43, 408, 1260, 72968, 72970, 1400, 72972, 1661, 1232, 6130, 2591, 72967, 46, 5740, 58585, 205, 219, 1727, 1998, 2000, 4300, 72963, 2600, 74, 768, 3207, 72950, 30254, 23, 36034, 1184, 7370, 45, 1497, 41445, 2814, 996, 8492, 514, 42324, 33283, 8800, 4363, 55, 600, 244, 730, 27827, 35, 2680, 16, 3296]\n"
     ]
    }
   ],
   "source": [
    "# print file numbers\n",
    "print (\"\\nThe file numbers for the top 100 ebooks on Gutenberg are shown below\\n\"+\"-\"*70)\n",
    "print(booknum)"
   ]
  },
  {
   "cell_type": "markdown",
   "id": "dcfdcb74",
   "metadata": {},
   "source": [
    "#### How does the soup object's text look like? Use .text() method and print only first 2000 characters (i.e. do not print the whole thing, it is long)."
   ]
  },
  {
   "cell_type": "code",
   "execution_count": 14,
   "id": "5ad05432",
   "metadata": {},
   "outputs": [
    {
     "name": "stdout",
     "output_type": "stream",
     "text": [
      "\n",
      "\n",
      "\n",
      "\n",
      "Top 100 | Project Gutenberg\n",
      "\n",
      "\n",
      "\n",
      "\n",
      "\n",
      "\n",
      "\n",
      "\n",
      "\n",
      "\n",
      "\n",
      "\n",
      "\n",
      "\n",
      "\n",
      "\n",
      "\n",
      "\n",
      "\n",
      "\n",
      "\n",
      "\n",
      "\n",
      "\n",
      "\n",
      "\n",
      "\n",
      "Menu▾\n",
      "\n",
      "\n",
      "\n",
      "About\n",
      "          ▾\n",
      "\n",
      "▾\n",
      "\n",
      "\n",
      "About Project Gutenberg\n",
      "Collection Development\n",
      "Contact Us\n",
      "History & Philosophy\n",
      "Permissions & License\n",
      "Privacy Policy\n",
      "Terms of Use\n",
      "\n",
      "\n",
      "\n",
      "Search and Browse\n",
      "      \t  ▾\n",
      "\n",
      "▾\n",
      "\n",
      "\n",
      "Book Search\n",
      "Bookshelves\n",
      "Frequently Downloaded\n",
      "Offline Catalogs\n",
      "\n",
      "\n",
      "\n",
      "Help\n",
      "          ▾\n",
      "\n",
      "▾\n",
      "\n",
      "\n",
      "All help topics →\n",
      "Copyright How-To\n",
      "Errata, Fixes and Bug Reports\n",
      "File Formats\n",
      "Frequently Asked Questions\n",
      "Policies →\n",
      "Public Domain eBook Submission\n",
      "Submitting Your Own Work\n",
      "Tablets, Phones and eReaders\n",
      "The Attic →\n",
      "\n",
      "\n",
      "Donate\n",
      "\n",
      "\n",
      "\n",
      "\n",
      "\n",
      "\n",
      "\n",
      "\n",
      "\n",
      "\n",
      "Donation\n",
      "\n",
      "\n",
      "\n",
      "\n",
      "\n",
      "\n",
      "\n",
      "Frequently Viewed or Downloaded\n",
      "These listings are based on the number of times each eBook gets downloaded.\n",
      "      Multiple downloads from the same Internet address on the same day count as one download, and addresses that download more than 100 eBooks in a day are considered robots and are not counted.\n",
      "\n",
      "Downloaded Books\n",
      "2024-02-16289145\n",
      "last 7 days2086226\n",
      "last 30 days7432239\n",
      "\n",
      "\n",
      "\n",
      "Top 100 EBooks yesterday\n",
      "Top 100 Authors yesterday\n",
      "Top 100 EBooks last 7 days\n",
      "Top 100 Authors last 7 days\n",
      "Top 100 EBooks last 30 days\n",
      "Top 100 Authors last 30 days\n",
      "\n",
      "\n",
      "Top 100 EBooks yesterday\n",
      "\n",
      "Frankenstein; Or, The Modern Prometheus by Mary Wollstonecraft Shelley (2749)\n",
      "Pride and Prejudice by Jane Austen (2520)\n",
      "Moby Dick; Or, The Whale by Herman Melville (2175)\n",
      "Romeo and Juliet by William Shakespeare (2064)\n",
      "Middlemarch by George Eliot (1635)\n",
      "A Room with a View by E. M.  Forster (1527)\n",
      "The Complete Works of William Shakespeare by William Shakespeare (1522)\n",
      "Little Women; Or, Meg, Jo, Beth, and Amy by Louisa May Alcott (1501)\n",
      "The Enchanted April by Elizabeth Von Arnim (1358)\n",
      "The Blue Castle: a novel by L. M.  Montgomery (1353)\n",
      "The Adventures of Ferdinand Count Fathom — Complete by T.  Smollett (1275)\n",
      "Cranford by Elizabeth Cleghorn Gaskell (1253)\n",
      "The Expedition of Humphry Clinker by T.  Smollett (1251)\n",
      "The Adventures of Roderick Random by T.  Smollett (1247)\n",
      "Twenty years after by Alexandre Dumas and Auguste Maquet (1\n"
     ]
    }
   ],
   "source": [
    "print(soup.text[:2000])"
   ]
  },
  {
   "cell_type": "markdown",
   "id": "6f6f83a2",
   "metadata": {},
   "source": [
    "#### Search in the extracted text (using regular expression) from the soup object to find the names of top 100 Ebooks (Yesterday's rank)"
   ]
  },
  {
   "cell_type": "code",
   "execution_count": 15,
   "id": "e0789c50",
   "metadata": {},
   "outputs": [],
   "source": [
    "# Temp empty list of Ebook names\n",
    "lst_titles_temp=[]"
   ]
  },
  {
   "cell_type": "markdown",
   "id": "eb20870c",
   "metadata": {},
   "source": [
    "#### Create a starting index. It should point at the text \"Top 100 Ebooks yesterday\". Hint: Use splitlines() method of the soup.text. It splits the lines of the text of the soup object."
   ]
  },
  {
   "cell_type": "code",
   "execution_count": 16,
   "id": "76c927ac",
   "metadata": {},
   "outputs": [],
   "source": [
    "start_idx=soup.text.splitlines().index('Top 100 EBooks yesterday')"
   ]
  },
  {
   "cell_type": "markdown",
   "id": "2a7c71eb",
   "metadata": {},
   "source": [
    "#### Loop 1-100 to add the strings of next 100 lines to this temporary list. Hint: `splitlines()` method"
   ]
  },
  {
   "cell_type": "code",
   "execution_count": 17,
   "id": "37d2a54d",
   "metadata": {},
   "outputs": [],
   "source": [
    "for i in range(100):\n",
    "    lst_titles_temp.append(soup.text.splitlines()[start_idx+2+i])"
   ]
  },
  {
   "cell_type": "markdown",
   "id": "78643508",
   "metadata": {},
   "source": [
    "#### Use regular expression to extract only text from the name strings and append to an empty list\n",
    "* Hint: Use `match` and `span` to find indices and use them"
   ]
  },
  {
   "cell_type": "code",
   "execution_count": 18,
   "id": "747d32b5",
   "metadata": {},
   "outputs": [],
   "source": [
    "lst_titles=[]\n",
    "for i in range(100):\n",
    "    id1,id2=re.match('^[a-zA-Z ]*',lst_titles_temp[i]).span()\n",
    "    lst_titles.append(lst_titles_temp[i][id1:id2])"
   ]
  },
  {
   "cell_type": "markdown",
   "id": "b9458568",
   "metadata": {},
   "source": [
    "#### Print the list of titles"
   ]
  },
  {
   "cell_type": "code",
   "execution_count": 19,
   "id": "f7531e29",
   "metadata": {},
   "outputs": [
    {
     "name": "stdout",
     "output_type": "stream",
     "text": [
      "Top \n",
      "Top \n",
      "Top \n",
      "Top \n",
      "\n",
      "\n",
      "Top \n",
      "\n",
      "Frankenstein\n",
      "Pride and Prejudice by Jane Austen \n",
      "Moby Dick\n",
      "Romeo and Juliet by William Shakespeare \n",
      "Middlemarch by George Eliot \n",
      "A Room with a View by E\n",
      "The Complete Works of William Shakespeare by William Shakespeare \n",
      "Little Women\n",
      "The Enchanted April by Elizabeth Von Arnim \n",
      "The Blue Castle\n",
      "The Adventures of Ferdinand Count Fathom \n",
      "Cranford by Elizabeth Cleghorn Gaskell \n",
      "The Expedition of Humphry Clinker by T\n",
      "The Adventures of Roderick Random by T\n",
      "Twenty years after by Alexandre Dumas and Auguste Maquet \n",
      "My Life \n",
      "History of Tom Jones\n",
      "Alice\n",
      "The Great Gatsby by F\n",
      "A dead man\n",
      "The girl from nowhere by Mrs\n",
      "The Picture of Dorian Gray by Oscar Wilde \n",
      "The horror at Red Hook by H\n",
      "A Doll\n",
      "The Yellow Wallpaper by Charlotte Perkins Gilman \n",
      "A Modest Proposal by Jonathan Swift \n",
      "The Importance of Being Earnest\n",
      "Metamorphosis by Franz Kafka \n",
      "A Tale of Two Cities by Charles Dickens \n",
      "Dracula by Bram Stoker \n",
      "Crime and Punishment by Fyodor Dostoyevsky \n",
      "Adventures of Huckleberry Finn by Mark Twain \n",
      "The Brothers Karamazov by Fyodor Dostoyevsky \n",
      "The Scarlet Letter by Nathaniel Hawthorne \n",
      "The Strange Case of Dr\n",
      "The Souls of Black Folk by W\n",
      "Jane Eyre\n",
      "Friend and foe \n",
      "Harebell\n",
      "Great Expectations by Charles Dickens \n",
      "Money for nothing by P\n",
      "The Adventures of Sherlock Holmes by Arthur Conan Doyle \n",
      "The Prince by Niccol\n",
      "The Iliad by Homer \n",
      "Grimms\n",
      "Chalk face by Waldo David Frank \n",
      "A Christmas Carol in Prose\n",
      "Tractatus Logico\n",
      "The Prophet by Kahlil Gibran \n",
      "Walden\n",
      "Heart of Darkness by Joseph Conrad \n",
      "The Odyssey by Homer \n",
      "Thus Spake Zarathustra\n",
      "Don Quijote by Miguel de Cervantes Saavedra \n",
      "Ulysses by James Joyce \n",
      "The nature of the physical world by Sir Arthur Stanley Eddington \n",
      "War and Peace by graf Leo Tolstoy \n",
      "The Adventures of Tom Sawyer\n",
      "Wuthering Heights by Emily Bront\n",
      "Leviathan by Thomas Hobbes \n",
      "The Bunnikins\n",
      "The Romance of Lust\n",
      "Narrative of the Life of Frederick Douglass\n",
      "White Nights and Other Stories by Fyodor Dostoyevsky \n",
      "The Count of Monte Cristo by Alexandre Dumas and Auguste Maquet \n",
      "Second Treatise of Government by John Locke \n",
      "Anne of Green Gables by L\n",
      "The Republic by Plato \n",
      "Frankenstein\n",
      "Dubliners by James Joyce \n",
      "Don Quixote by Miguel de Cervantes Saavedra \n",
      "The King in Yellow by Robert W\n",
      "Little Women by Louisa May Alcott \n",
      "Frankenstein\n",
      "Calculus Made Easy by Silvanus P\n",
      "The divine comedy by Dante Alighieri \n",
      "Beyond Good and Evil by Friedrich Wilhelm Nietzsche \n",
      "The Wonderful Wizard of Oz by L\n",
      "Notes from the Underground by Fyodor Dostoyevsky \n",
      "A Study in Scarlet by Arthur Conan Doyle \n",
      "Oliver Twist by Charles Dickens \n",
      "The Kama Sutra of Vatsyayana by Vatsyayana \n",
      "The Time Machine by H\n",
      "Meditations by Emperor of Rome Marcus Aurelius \n",
      "Peter Pan by J\n",
      "The Confessions of St\n",
      "The Interesting Narrative of the Life of Olaudah Equiano\n",
      "Treasure Island by Robert Louis Stevenson \n",
      "Sense and Sensibility by Jane Austen \n",
      "The Hound of the Baskervilles by Arthur Conan Doyle \n",
      "Winnie\n",
      "Emma by Jane Austen \n"
     ]
    }
   ],
   "source": [
    "for l in lst_titles:\n",
    "    print(l)"
   ]
  },
  {
   "cell_type": "markdown",
   "id": "4ae34f3c",
   "metadata": {},
   "source": [
    "### Exercise 2, Activity 10: Build your own movie database by reading from an API"
   ]
  },
  {
   "cell_type": "markdown",
   "id": "e6b16df1",
   "metadata": {},
   "source": [
    "#### Load the secret API key (you have to get one from OMDB website and use that, 1000 daily limit) from a JSON file, stored in the same folder into a variable\n",
    "Hint: Use **`json.loads()`**\n",
    "\n",
    "#### Note: The following cell will not be executed in the solution notebook because the author cannot give out his private API key. \n",
    "#### Students/users/instructor will need to obtain a key and store in a JSON file. \n",
    "#### For the code's sake, we are calling this file `APIkeys.json`. But you need to store your own key in this file."
   ]
  },
  {
   "cell_type": "code",
   "execution_count": 20,
   "id": "73941f8c",
   "metadata": {},
   "outputs": [],
   "source": [
    "# open and load data with API key\n",
    "with open('APIkeys.json') as f:\n",
    "    keys = json.load(f)\n",
    "    omdbapi = keys['OMDBapi']"
   ]
  },
  {
   "cell_type": "markdown",
   "id": "9d1853b3",
   "metadata": {},
   "source": [
    "#### The final URL to be passed should look like: http://www.omdbapi.com/?t=movie_name&apikey=secretapikey \n",
    "Do the following,\n",
    "* Assign the OMDB portal (http://www.omdbapi.com/?) as a string to a variable `serviceurl` (don't miss the `?`)\n",
    "* Create a variable `apikey` with the last portion of the URL (\"&apikey=secretapikey\"), where `secretapikey` is your own API key (an actual code)\n",
    "* The movie name portion i.e. \"t=movie_name\" will be addressed later"
   ]
  },
  {
   "cell_type": "code",
   "execution_count": 21,
   "id": "587dfcb2",
   "metadata": {},
   "outputs": [],
   "source": [
    "# url variables\n",
    "serviceurl = 'http://www.omdbapi.com/?'\n",
    "apikey = '&apikey='+omdbapi"
   ]
  },
  {
   "cell_type": "markdown",
   "id": "5e29d5c6",
   "metadata": {},
   "source": [
    "#### Write a utility function `print_json` to print nicely the movie data from a JSON file (which we will get from the portal)\n",
    "Here are the keys of a JSON file,\n",
    "\n",
    "'Title', 'Year', 'Rated', 'Released', 'Runtime', 'Genre', 'Director', 'Writer', 'Actors', 'Plot', 'Language','Country', 'Awards', 'Ratings', 'Metascore', 'imdbRating', 'imdbVotes', 'imdbID'"
   ]
  },
  {
   "cell_type": "code",
   "execution_count": 22,
   "id": "43c844df",
   "metadata": {},
   "outputs": [],
   "source": [
    "# function to print json data by parsing out by data key\n",
    "def print_json(json_data):\n",
    "    list_keys=['Title', 'Year', 'Rated', 'Released', 'Runtime', 'Genre', 'Director', 'Writer', \n",
    "               'Actors', 'Plot', 'Language', 'Country', 'Awards', 'Ratings', \n",
    "               'Metascore', 'imdbRating', 'imdbVotes', 'imdbID']\n",
    "    print(\"-\"*50)\n",
    "    for k in list_keys:\n",
    "        if k in list(json_data.keys()):\n",
    "            print(f\"{k}: {json_data[k]}\")\n",
    "    print(\"-\"*50)"
   ]
  },
  {
   "cell_type": "markdown",
   "id": "bdd796b4",
   "metadata": {},
   "source": [
    "#### Write a utility function to download a poster of the movie based on the information from the jason dataset and save in your local folder\n",
    "\n",
    "* Use `os` module\n",
    "* The poster data is stored in the JSON key 'Poster'\n",
    "* You may want to split the name of the Poster file and extract the file extension only. Let's say the extension is ***'jpg'***.\n",
    "* Then later join this extension to the movie name and create a filename like ***movie.jpg***\n",
    "* Use the Python command `open` to open a file and write the poster data. Close the file after done.\n",
    "* This function may not return anything. It just saves the poster data as an image file."
   ]
  },
  {
   "cell_type": "code",
   "execution_count": 23,
   "id": "f0ee5d51",
   "metadata": {},
   "outputs": [],
   "source": [
    "# function to download movie poster \n",
    "def save_poster(json_data):\n",
    "    import os\n",
    "    title = json_data['Title']\n",
    "    poster_url = json_data['Poster']\n",
    "    # Splits the poster url by '.' and picks up the last string as file extension\n",
    "    poster_file_extension=poster_url.split('.')[-1]\n",
    "    # Reads the image file from web\n",
    "    poster_data = urllib.request.urlopen(poster_url).read()\n",
    "        \n",
    "    savelocation=os.getcwd()+'\\\\'+'Posters'+'\\\\'\n",
    "    # Creates new directory if the directory does not exist. Otherwise, just use the existing path.\n",
    "    if not os.path.isdir(savelocation):\n",
    "        os.mkdir(savelocation)\n",
    "    \n",
    "    filename=savelocation+str(title)+'.'+poster_file_extension\n",
    "    f=open(filename,'wb')\n",
    "    f.write(poster_data)\n",
    "    f.close()"
   ]
  },
  {
   "cell_type": "markdown",
   "id": "b1fcf85b",
   "metadata": {},
   "source": [
    "### Write a utility function `search_movie` to search a movie by its name, print the downloaded JSON data (use the `print_json` function for this) and save the movie poster in the local folder (use `save_poster` function for this)\n",
    "\n",
    "* Use `try-except` loop for this i.e. try to connect to the web portal, if successful proceed but if not (i.e. exception raised) then just print an error message\n",
    "* Here use the previously created variables `serviceurl` and `apikey`\n",
    "* You have to pass on a dictionary with a key `t` and the movie name as the corresponding value to `urllib.parse.urlencode()` function and then add the `serviceurl` and `apikey` to the output of the function to construct the full URL\n",
    "* This URL will be used for accessing the data\n",
    "* The JSON data has a key called `Response`. If it is `True`, that means the read was successful. Check this before processing the data. If not successful, then print the JSON key `Error`, which will contain the appropriate error message returned by the movie database."
   ]
  },
  {
   "cell_type": "code",
   "execution_count": 24,
   "id": "29b6da49",
   "metadata": {},
   "outputs": [],
   "source": [
    "# function to search for movie based on title requested\n",
    "def search_movie(title):\n",
    "    try:\n",
    "        # concat url\n",
    "        url = serviceurl + urllib.parse.urlencode({'t': str(title)})+apikey\n",
    "        \n",
    "        # print what title is being retrieved\n",
    "        print(f'Retrieving the data of \"{title}\" now... ')\n",
    "        \n",
    "        # print concatenated url \n",
    "        print(url)\n",
    "        \n",
    "        # request url\n",
    "        uh = urllib.request.urlopen(url)\n",
    "        \n",
    "        # read page\n",
    "        data = uh.read()\n",
    "        \n",
    "        #load json data\n",
    "        json_data=json.loads(data)\n",
    "        \n",
    "        # if statement for printing or displaying error from API\n",
    "        if json_data['Response']=='True':\n",
    "            print_json(json_data)\n",
    "            # Asks user whether to download the poster of the movie\n",
    "            if json_data['Poster']!='N/A':\n",
    "                save_poster(json_data)\n",
    "        else:\n",
    "            print(\"Error encountered: \",json_data['Error'])\n",
    "    \n",
    "    # error catching if request does not work\n",
    "    except urllib.error.URLError as e:\n",
    "        print(f\"ERROR: {e.reason}\")"
   ]
  },
  {
   "cell_type": "markdown",
   "id": "0fc6d26a",
   "metadata": {},
   "source": [
    "#### Test `search_movie` function by entering *Titanic*"
   ]
  },
  {
   "cell_type": "code",
   "execution_count": 25,
   "id": "b7e4cca1",
   "metadata": {},
   "outputs": [
    {
     "name": "stdout",
     "output_type": "stream",
     "text": [
      "Retrieving the data of \"Titanic\" now... \n",
      "http://www.omdbapi.com/?t=Titanic&apikey=8752becf\n",
      "--------------------------------------------------\n",
      "Title: Titanic\n",
      "Year: 1997\n",
      "Rated: PG-13\n",
      "Released: 19 Dec 1997\n",
      "Runtime: 194 min\n",
      "Genre: Drama, Romance\n",
      "Director: James Cameron\n",
      "Writer: James Cameron\n",
      "Actors: Leonardo DiCaprio, Kate Winslet, Billy Zane\n",
      "Plot: A seventeen-year-old aristocrat falls in love with a kind but poor artist aboard the luxurious, ill-fated R.M.S. Titanic.\n",
      "Language: English, Swedish, Italian, French\n",
      "Country: United States, Mexico\n",
      "Awards: Won 11 Oscars. 126 wins & 83 nominations total\n",
      "Ratings: [{'Source': 'Internet Movie Database', 'Value': '7.9/10'}, {'Source': 'Rotten Tomatoes', 'Value': '88%'}, {'Source': 'Metacritic', 'Value': '75/100'}]\n",
      "Metascore: 75\n",
      "imdbRating: 7.9\n",
      "imdbVotes: 1,267,049\n",
      "imdbID: tt0120338\n",
      "--------------------------------------------------\n"
     ]
    }
   ],
   "source": [
    "# call api for data on Titanic\n",
    "search_movie(\"Titanic\")"
   ]
  },
  {
   "cell_type": "markdown",
   "id": "e79fb22f",
   "metadata": {},
   "source": [
    "#### Test `search_movie` function by entering \"*Random_error*\" (obviously this will not be found and you should be able to check whether your error catching code is working properly)"
   ]
  },
  {
   "cell_type": "code",
   "execution_count": 26,
   "id": "7f89cf19",
   "metadata": {},
   "outputs": [
    {
     "name": "stdout",
     "output_type": "stream",
     "text": [
      "Retrieving the data of \"Random_error\" now... \n",
      "http://www.omdbapi.com/?t=Random_error&apikey=8752becf\n",
      "Error encountered:  Movie not found!\n"
     ]
    }
   ],
   "source": [
    "# check that error catching code is working\n",
    "search_movie(\"Random_error\")"
   ]
  },
  {
   "cell_type": "markdown",
   "id": "83f1278e",
   "metadata": {},
   "source": [
    "### Exercise 3"
   ]
  },
  {
   "cell_type": "markdown",
   "id": "80dc15d9",
   "metadata": {},
   "source": [
    "#### a. Connect to an API of your choice and do a simple data pull - you can use any API - except the API you have selected for your project. In previous versions of this course we have always used Twitter, but with recent organizational changes at Twitter, it has become increasingly difficult to access the free APIs available at Twitter. You are more than welcome to try to use Twitter's API for this portion of the assignment, but please note, there has been some inconsistency experienced when following along with their documentation posted.\n",
    "\n",
    "#### b. Connect to the API and do a \"Get\" call/operation on the API to return a subset of data from the API"
   ]
  },
  {
   "cell_type": "code",
   "execution_count": 27,
   "id": "4550cc09",
   "metadata": {},
   "outputs": [],
   "source": [
    "# API url\n",
    "dog_facts_url = 'http://dog-api.kinduff.com/api/facts?number='"
   ]
  },
  {
   "cell_type": "code",
   "execution_count": 39,
   "id": "817c35e8",
   "metadata": {},
   "outputs": [
    {
     "data": {
      "text/plain": [
       "'13'"
      ]
     },
     "execution_count": 39,
     "metadata": {},
     "output_type": "execute_result"
    }
   ],
   "source": [
    "# number of facts ranomizer and convert int to string to be able to concatenate\n",
    "facts_num = str(random.randint(1,25))\n",
    "facts_num"
   ]
  },
  {
   "cell_type": "code",
   "execution_count": 40,
   "id": "8eac2299",
   "metadata": {},
   "outputs": [],
   "source": [
    "def get_dog_facts(facts_num):\n",
    "    try:\n",
    "        # concat the URL and number randomizer\n",
    "        facts_url = dog_facts_url + facts_num\n",
    "        \n",
    "        # print the number of facts being retrieved\n",
    "        print(f'Retrieving \"{facts_num}\" facts now... ')\n",
    "        \n",
    "        # print concatenated url\n",
    "        print(facts_url)\n",
    "        \n",
    "        # open url\n",
    "        dog_uh = urllib.request.urlopen(facts_url)\n",
    "        \n",
    "        # read webpage\n",
    "        dog_data = dog_uh.read()\n",
    "        \n",
    "        # load json data\n",
    "        dog_json_data=json.loads(dog_data)\n",
    "        \n",
    "        # turn facts key into list\n",
    "        dog_data_list = dog_json_data['facts']\n",
    "        \n",
    "        # call function to print data\n",
    "        print_dog_json_data(dog_data_list)\n",
    "    \n",
    "    # error capturing\n",
    "    except urllib.error.URLError as e:\n",
    "        print(f\"ERROR: {e.reason}\")"
   ]
  },
  {
   "cell_type": "code",
   "execution_count": 41,
   "id": "e2f57a0a",
   "metadata": {},
   "outputs": [],
   "source": [
    "def print_dog_json_data(dog_data_list):\n",
    "    \n",
    "    # loop through list to print each string separately for readability\n",
    "    for i in range(0, len(dog_data_list)):\n",
    "        print('\\n')\n",
    "        print(dog_data_list[i])"
   ]
  },
  {
   "cell_type": "code",
   "execution_count": 43,
   "id": "13c6a9af",
   "metadata": {},
   "outputs": [
    {
     "name": "stdout",
     "output_type": "stream",
     "text": [
      "Retrieving \"13\" facts now... \n",
      "http://dog-api.kinduff.com/api/facts?number=13\n",
      "\n",
      "\n",
      "There is a dog-shaped building in New Zealand.\n",
      "\n",
      "\n",
      "In 1860's San Francisco, two stray dogs who were best friends became local celebrities. Their exploits were celebrated in local papers and they were granted immunity from the city's dog catchers.\n",
      "\n",
      "\n",
      "In ancient China, people kept warm by putting dogs up their sleeves.\n",
      "\n",
      "\n",
      "Obesity is the #1 health problem among dogs.\n",
      "\n",
      "\n",
      "During the Middle Ages, mixed breeds of peasants’ dogs were required to wear blocks around their necks to keep them from breeding with noble hunting dogs. Purebred dogs were very expensive and hunting became the province of the rich.\n",
      "\n",
      "\n",
      "Puppies then take a year or more to gain the other half of their body weight.\n",
      "\n",
      "\n",
      "Dogs do not have an appendix. Why haven’t humans gotten rid of theirs yet?\n",
      "\n",
      "\n",
      "One kind of Pekingese is referred to as a \"sleeve\" because it was bred to fit into a Chinese empress’ sleeves, which was how it was often carried around.\n",
      "\n",
      "\n",
      "Pugs and other dogs with short muzzles have a peculiar head-type known as \"Brachycephalic.\"\n",
      "\n",
      "\n",
      "The largest dog was an English Mastiff who weighed 343 pounds.\n",
      "\n",
      "\n",
      "A dog's sense of smell is 10,000 times stronger than a human's.\n",
      "\n",
      "\n",
      "Dogs evolved from an extinct wolf-like creature in Eurasia 40,000 years ago.\n",
      "\n",
      "\n",
      "Humans can detect sounds at 20,000 times per second, while dogs can sense frequencies of 30,000 times per second.\n"
     ]
    }
   ],
   "source": [
    "# call function to call api and print data\n",
    "get_dog_facts(facts_num)"
   ]
  },
  {
   "cell_type": "markdown",
   "id": "9f8a3c87",
   "metadata": {},
   "source": [
    "### Exercise 4\n",
    "Using one of the datasets provided in Weeks 7 & 8, or a dataset of your own, choose 3 of the following visualizations to complete. You must submit via PDF along with your code. You are free to use Matplotlib, Seaborn or another package if you prefer."
   ]
  },
  {
   "cell_type": "markdown",
   "id": "eb0ff0b1",
   "metadata": {},
   "source": [
    "#### Setup"
   ]
  },
  {
   "cell_type": "code",
   "execution_count": 32,
   "id": "8f2f7c21",
   "metadata": {},
   "outputs": [],
   "source": [
    "# import file using pandas and set up as df\n",
    "vg_sales_df = pd.read_csv(\"Video_Games_Sales_as_at_22_Dec_2016.csv\")\n",
    "\n",
    "# remove data without a year of release\n",
    "vg_sales_df = vg_sales_df[vg_sales_df.Year_of_Release != \"N/A\"]\n",
    "\n",
    "# Group by year of release and genre\n",
    "vg_sales_df_grouped = vg_sales_df.groupby(['Year_of_Release', 'Genre']).Global_Sales.agg(['sum']).reset_index(drop=False)\n",
    "\n",
    "# df2 = df.groupby(['Name', 'Type']).Value.agg([('AddedValue', 'sum'), ('Occurences', 'count')]).reset_index(drop=False)\n",
    "\n",
    "# group 2 for shooter genre\n",
    "vg_sales_df_grouped2 = vg_sales_df_grouped[vg_sales_df_grouped.Genre == 'Shooter']\n",
    "\n",
    "# count the number of sales by genre\n",
    "vg_sales_df_genres = vg_sales_df.groupby(['Genre'])['Genre'].count().reset_index(name=\"Count\")"
   ]
  },
  {
   "cell_type": "markdown",
   "id": "a6d9abab",
   "metadata": {},
   "source": [
    "#### a. Line"
   ]
  },
  {
   "cell_type": "code",
   "execution_count": 33,
   "id": "cf0c27bf",
   "metadata": {},
   "outputs": [
    {
     "data": {
      "text/plain": [
       "Text(0.5, 1.0, 'Shooter Video Game Sales by Year')"
      ]
     },
     "execution_count": 33,
     "metadata": {},
     "output_type": "execute_result"
    },
    {
     "data": {
      "image/png": "[encoded data removed]",
      "text/plain": [
       "<Figure size 640x480 with 1 Axes>"
      ]
     },
     "metadata": {},
     "output_type": "display_data"
    }
   ],
   "source": [
    "# line graph using group 2 to compare sales of shooter games per year\n",
    "plt.plot('Year_of_Release', 'sum', data = vg_sales_df_grouped2)\n",
    "plt.title(\"Shooter Video Game Sales by Year\")"
   ]
  },
  {
   "cell_type": "markdown",
   "id": "8815af9c",
   "metadata": {},
   "source": [
    "#### b. Scatter"
   ]
  },
  {
   "cell_type": "code",
   "execution_count": 34,
   "id": "f082125c",
   "metadata": {},
   "outputs": [],
   "source": [
    "# plt.scatter(vg_sales_df_grouped2['Year_of_Release'], vg_sales_df_grouped2['sum'])\n",
    "# plt.title(\"Shooter Video Game Sales by Year\")"
   ]
  },
  {
   "cell_type": "markdown",
   "id": "2e1b1e4a",
   "metadata": {},
   "source": [
    "#### c. Bar"
   ]
  },
  {
   "cell_type": "code",
   "execution_count": 35,
   "id": "2d1884d6",
   "metadata": {},
   "outputs": [],
   "source": [
    "# plt.bar('Year_of_Release', 'sum', data = vg_sales_df_grouped2)\n",
    "# plt.title(\"Shooter Video Game Sales by Year\")"
   ]
  },
  {
   "cell_type": "markdown",
   "id": "34f7b08b",
   "metadata": {},
   "source": [
    "#### d. Histogram"
   ]
  },
  {
   "cell_type": "code",
   "execution_count": 36,
   "id": "95e086be",
   "metadata": {},
   "outputs": [
    {
     "data": {
      "text/plain": [
       "Text(0.5, 1.0, 'Video Game Sales by Genre')"
      ]
     },
     "execution_count": 36,
     "metadata": {},
     "output_type": "execute_result"
    },
    {
     "data": {
      "image/png": "[encoded data removed]",
      "text/plain": [
       "<Figure size 640x480 with 1 Axes>"
      ]
     },
     "metadata": {},
     "output_type": "display_data"
    }
   ],
   "source": [
    "# histogramshowing the number of sales per genre\n",
    "plt.hist(vg_sales_df_grouped['Genre'], bins = 10, orientation = \"horizontal\", edgecolor = \"white\")\n",
    "plt.title(\"Video Game Sales by Genre\")"
   ]
  },
  {
   "cell_type": "markdown",
   "id": "1b55877c",
   "metadata": {},
   "source": [
    "#### e. Density Plot"
   ]
  },
  {
   "cell_type": "code",
   "execution_count": 37,
   "id": "bd57b90e",
   "metadata": {},
   "outputs": [],
   "source": [
    "# vg_sales_df_grouped2['Year_of_Release'].plot(kind='density')\n",
    "# plt.title(\"Shooter Video Games Density by Year\")"
   ]
  },
  {
   "cell_type": "markdown",
   "id": "ee9ea423",
   "metadata": {},
   "source": [
    "#### f. Pie Chart"
   ]
  },
  {
   "cell_type": "code",
   "execution_count": 38,
   "id": "574e20f1",
   "metadata": {},
   "outputs": [
    {
     "data": {
      "text/plain": [
       "Text(0.5, 1.0, 'Video Games by Genre')"
      ]
     },
     "execution_count": 38,
     "metadata": {},
     "output_type": "execute_result"
    },
    {
     "data": {
      "image/png": "[encoded data removed]",
      "text/plain": [
       "<Figure size 640x480 with 1 Axes>"
      ]
     },
     "metadata": {},
     "output_type": "display_data"
    }
   ],
   "source": [
    "# pie chart showing percentage of sales for each genre\n",
    "plt.pie(vg_sales_df_genres[\"Count\"], labels = vg_sales_df_genres[\"Genre\"], autopct='%1.1f%%')\n",
    "plt.title(\"Video Games by Genre\")"
   ]
  },
  {
   "cell_type": "code",
   "execution_count": null,
   "id": "4fb49e0b",
   "metadata": {},
   "outputs": [],
   "source": []
  }
 ],
 "metadata": {
  "kernelspec": {
   "display_name": "Python 3 (ipykernel)",
   "language": "python",
   "name": "python3"
  },
  "language_info": {
   "codemirror_mode": {
    "name": "ipython",
    "version": 3
   },
   "file_extension": ".py",
   "mimetype": "text/x-python",
   "name": "python",
   "nbconvert_exporter": "python",
   "pygments_lexer": "ipython3",
   "version": "3.9.13"
  }
 },
 "nbformat": 4,
 "nbformat_minor": 5
}
